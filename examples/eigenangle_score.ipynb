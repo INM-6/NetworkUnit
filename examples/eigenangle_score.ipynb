{
 "cells": [
  {
   "cell_type": "code",
   "execution_count": 3,
   "metadata": {},
   "outputs": [],
   "source": [
    "import numpy as np\n",
    "from scipy.linalg import eigh, norm\n",
    "from scipy.special import binom\n",
    "from scipy.integrate import quad\n",
    "import matplotlib.pyplot as plt\n",
    "import seaborn as sns\n",
    "import sciunit\n",
    "import matplotlib.mlab as mlab\n",
    "from scipy.integrate import quad\n",
    "import scipy.interpolate as interpolate\n",
    "from numpy import pi\n",
    "import imp\n",
    "from quantities import Hz, ms\n",
    "from matplotlib import rc"
   ]
  },
  {
   "cell_type": "markdown",
   "metadata": {},
   "source": [
    "## Table of Contents\n",
    "* [An angle as similiarity measure between matrices](#intro)\n",
    "* [Building the null hypothesis test](#nullhyp)\n",
    "    * [the null hypothesis](#)\n",
    "    * [random (poisson) activity -> random correlation matrix](#)\n",
    "    * [random correlation matrix -> randomly distributed eigenvectors](#)\n",
    "    * [the direction ambiquiting of eigenvectors](#)\n",
    "    * [angle distribution between random vectors in N-dim](#)\n",
    "    * [distribution of eigenvalues](#)\n",
    "    * [distribution of weighted angles](#)\n",
    "    * [distribution of the mean of the weighted angle distribution](#)\n",
    "* [The eigenangle in action: effects of deviations from the null hypothesis](#)\n",
    "    * [violation of Poisson assumption](#)\n",
    "    * [detection of correlated groups](#)"
   ]
  },
  {
   "cell_type": "markdown",
   "metadata": {},
   "source": [
    "# An angle as similiarity measure between matrices <a id='intro'></a>\n",
    "\n",
    "Measure of shared non-randomness between matrices of the same basis.\n",
    "\n",
    "Use to compare network activity in neural networks (given the same or sufficiently equal networks)\n",
    "\n",
    "We start with the general case building the test based on the eigenvector and value distribution of random matrices and show how to apply this to the comparison of spiking network activity."
   ]
  },
  {
   "cell_type": "markdown",
   "metadata": {},
   "source": [
    "# Building the null hypothesis test <a id='nullhyp'></a>\n",
    "\n",
    "\n",
    "## the null hypthesis\n",
    "\n",
    "activity of $N$ independet neurons with only chance correlation"
   ]
  },
  {
   "cell_type": "markdown",
   "metadata": {},
   "source": [
    "## random (poisson) activity -> random correlation matrix\n",
    "\n",
    "A correlation matrix is a matrix of pairwise correlation coefficient between every node in a network and can be characterized by its following properties: [propbaly generalizable to hermitian matrices]\n",
    "\n",
    "* The matrix is symmetric.\n",
    "* All elements are real and $\\in$ [$-1,1$].\n",
    "* The diagonal elements are $1$.\n",
    "* The matrix is positive definte, i.e., all eigenvalues are $\\ge 0$.\n",
    "\n",
    "Especially the last point entails that not every set of randomly drawn correlation coefficents can form a correlation matrix. The pairwise correlation are not entirely independent from each other. This interdependence forms the basis of what we refer to as 'correlation structure'. What makes the correlation matrix random is that the correlation coefficients are, within these constraints, randomly sampled. The reason why this is interesting for the characterizaion of network activity, is that the chance correlations between independent point processes form a random correlation matrix.\n",
    "\n",
    "The very aspect of randomness we are interested in, is that the normalized eigenvectors of the $N\\ \\times N$ matrix are random. This means that they are uniformly distributed of the $N-$dim unit-sphere [(*Homes, 1991*)](). Thus, in 2D they are uniformly speard around a circle and in 3D around a ball. This is even though the eigenvectors of matrix are pairwise orthogonal.\n",
    "\n",
    "Let's demonstrate this. \n",
    "To generate random vectors, the easiest way is to exploit their property that the vector components are normal distributed [(*Guhr et al., 1998*)]().\n",
    "As for the random (correlation) matrix, this can be created by calculating the Gram matrix from a set of normalized random vectors $\\mathbf{R} = \\mathbf{T}\\mathbf{T}^*$, where $\\mathbf{T}$ is a matrix with rows $T_i$ being noramlized random vectors [(*Homes, 1991*)]()."
   ]
  },
  {
   "cell_type": "code",
   "execution_count": 15,
   "metadata": {},
   "outputs": [],
   "source": [
    "import numpy as np\n",
    "from scipy.linalg import eigh, eig\n",
    "from elephant.spike_train_correlation import corrcoef\n",
    "from elephant.conversion import BinnedSpikeTrain\n",
    "from quantities import ms, Hz\n",
    "from elephant.spike_train_generation import homogeneous_poisson_process as HPP\n",
    "\n",
    "\n",
    "def generate_random_vectors(dim=3, nbr_of_vectors=1000):\n",
    "    random_vectors = np.random.normal(size=(nbr_of_vectors, dim))\n",
    "    for i, v in enumerate(random_vectors):\n",
    "        random_vectors[i] /= np.linalg.norm(v)\n",
    "    return random_vectors\n",
    "\n",
    "def generate_random_eigenvectors(dim=3, min_nbr_of_vectors=2):\n",
    "    nbr_of_matrices = int(min_nbr_of_vectors)//int(dim)\n",
    "    eigenvector_array = np.empty((nbr_of_matrices*dim, dim))\n",
    "    for i in range(nbr_of_matrices):\n",
    "        random_vectors = np.random.normal(size=(dim, 100))\n",
    "        #for j, v in enumerate(random_vectors):\n",
    "         #   random_vectors[j] /= np.linalg.norm(v)\n",
    "        random_corr_matrix = np.dot(random_vectors, random_vectors.T)\n",
    "        eigenvalues, eigenvectors = eigh(random_corr_matrix)\n",
    "        eigenvector_array[i*dim:i*dim+dim] = eigenvectors\n",
    "    return eigenvector_array\n",
    "\n",
    "def generate_HPP_eigenvectors(dim=3, min_nbr_of_vectors=2, rate=10*Hz, \n",
    "                              t_start=0*ms, t_stop=10000*ms, binsize=2*ms):\n",
    "    nbr_of_matrices = int(min_nbr_of_vectors)//int(dim)\n",
    "    eigenvector_array = np.empty((nbr_of_matrices*dim, dim))\n",
    "    for i in range(nbr_of_matrices):\n",
    "        spiketrains = [HPP(rate=rate, t_start=t_start, t_stop=t_stop) for _ in range(dim)]\n",
    "        bsts = BinnedSpikeTrain(spiketrains, binsize=binsize, t_start=t_start, t_stop=t_stop)\n",
    "        random_corr_matrix = corrcoef(bsts, binary=True)\n",
    "        eigenvalues, eigenvectors = eigh(random_corr_matrix)\n",
    "        eigenvector_array[i*dim:i*dim+dim] = eigenvectors\n",
    "    return eigenvector_array"
   ]
  },
  {
   "cell_type": "code",
   "execution_count": 1,
   "metadata": {},
   "outputs": [],
   "source": []
  },
  {
   "cell_type": "code",
   "execution_count": 1,
   "metadata": {},
   "outputs": [],
   "source": []
  },
  {
   "cell_type": "code",
   "execution_count": 14,
   "metadata": {},
   "outputs": [
    {
     "ename": "IndentationError",
     "evalue": "unexpected indent (<ipython-input-14-5f0de6270955>, line 3)",
     "output_type": "error",
     "traceback": [
      "\u001b[0;36m  File \u001b[0;32m\"<ipython-input-14-5f0de6270955>\"\u001b[0;36m, line \u001b[0;32m3\u001b[0m\n\u001b[0;31m    return eigenvector_array\u001b[0m\n\u001b[0m    ^\u001b[0m\n\u001b[0;31mIndentationError\u001b[0m\u001b[0;31m:\u001b[0m unexpected indent\n"
     ]
    }
   ],
   "source": []
  },
  {
   "cell_type": "markdown",
   "metadata": {},
   "source": [
    "For a quick visual check of the distribution the 3D random vectors and eigenvectors, let's display them in 3D space together."
   ]
  },
  {
   "cell_type": "code",
   "execution_count": 17,
   "metadata": {},
   "outputs": [
    {
     "data": {
      "application/vnd.jupyter.widget-view+json": {
       "model_id": "eb583ae1307d48ab8ca590c2f8486d50",
       "version_major": 2,
       "version_minor": 0
      },
      "text/plain": [
       "FigureCanvasNbAgg()"
      ]
     },
     "metadata": {},
     "output_type": "display_data"
    },
    {
     "name": "stdout",
     "output_type": "stream",
     "text": [
      "999\n"
     ]
    }
   ],
   "source": [
    "%matplotlib widget\n",
    "import matplotlib.pyplot as plt\n",
    "from mpl_toolkits.mplot3d import Axes3D\n",
    "\n",
    "nbr_of_vectors = 1000\n",
    "\n",
    "# Create a sphere\n",
    "phi, theta = np.mgrid[0.0:np.pi:100j, 0.0:2.0*np.pi:100j]\n",
    "x = np.sin(phi)*np.cos(theta)\n",
    "y = np.sin(phi)*np.sin(theta)\n",
    "z = np.cos(phi)\n",
    "\n",
    "fig = plt.figure(figsize=(15,15))\n",
    "ax = fig.add_subplot(111, projection='3d')\n",
    "#ax.plot_surface(x, y, z,  rstride=1, cstride=1, color='b', alpha=1., linewidth=0)\n",
    "\n",
    "# Generate and draw random vectors\n",
    "rand_vs = generate_random_vectors(dim=3, nbr_of_vectors=nbr_of_vectors)\n",
    "ax.scatter(rand_vs[:,0],rand_vs[:,1],rand_vs[:,2], color='r', s=20, label='random vectors')\n",
    "\n",
    "# Generate and draw eigenvectors of random correlation matrices\n",
    "rand_evs = generate_random_eigenvectors(dim=3, min_nbr_of_vectors=nbr_of_vectors)\n",
    "print(len(rand_evs))\n",
    "ax.scatter(rand_evs[:,0],rand_evs[:,1],rand_evs[:,2], color='g', s=20, label='random eigenvectors')\n",
    "\n",
    "plt.legend()\n",
    "\n",
    "ax.set_xlim([-1, 1])\n",
    "ax.set_ylim([-1, 1])\n",
    "ax.set_zlim([-1, 1]);"
   ]
  },
  {
   "cell_type": "markdown",
   "metadata": {},
   "source": [
    "So far, so good. However, things get a bit more tricky when we start looking at the angles inbetween those vectors. With angle we always refer to the in-plane angle. In two dimensions things are still exactly how we intuitively expect them to be. The probability distribution for the angle between any two random vectors is uniform between $0^{\\circ}$ and $90^{\\circ}$. "
   ]
  },
  {
   "cell_type": "code",
   "execution_count": 4,
   "metadata": {},
   "outputs": [
    {
     "data": {
      "image/png": "[encoded data removed]",
      "text/plain": [
       "<Figure size 720x432 with 1 Axes>"
      ]
     },
     "metadata": {
      "needs_background": "light"
     },
     "output_type": "display_data"
    }
   ],
   "source": [
    "%matplotlib inline\n",
    "\n",
    "def plot_angle_distribution(vectors_a, vectors_b, bins=20, ax=None):\n",
    "    phi = []\n",
    "    for v, w in zip(vectors_a, vectors_b):\n",
    "            phi += [np.arccos(np.dot(v, w))]\n",
    "    if ax is None:\n",
    "        fig, ax = plt.subplots(nrows=1, ncols=1, figsize=(10,6))\n",
    "    edges = np.linspace(0, np.pi, bins)\n",
    "    hist, edges = np.histogram(phi, bins=edges, density=True)\n",
    "    angles = edges[:-1] + np.diff(edges)/2.\n",
    "    ax.bar(angles, hist, width=.9*np.diff(edges), alpha=0.5)\n",
    "    ax.set_xlabel('angle')\n",
    "    ax.set_ylabel('density')\n",
    "    ax.set_xticks(np.array([0, .25, .5, .75, 1]) * np.pi)\n",
    "    ax.set_xticklabels(['0', r'$\\frac{1}{4}\\pi$', r'$\\frac{1}{2}\\pi$',\n",
    "                        r'$\\frac{3}{4}\\pi$', r'$\\pi$'])\n",
    "    return ax\n",
    "    \n",
    "vectors_a = generate_random_vectors(dim=2, nbr_of_vectors=10**5)\n",
    "vectors_b = generate_random_vectors(dim=2, nbr_of_vectors=10**5)\n",
    "\n",
    "ax = plot_angle_distribution(vectors_a, vectors_b)\n",
    "ax.set_title('{}D random angle distribution'.format(2));"
   ]
  },
  {
   "cell_type": "markdown",
   "metadata": {},
   "source": [
    "In higher dimension however random vectors tend to become more and more perpendicular, thus the distribution becomes more and more centralized around $90^{\\circ}$, i.e., $\\pi/2$."
   ]
  },
  {
   "cell_type": "code",
   "execution_count": 5,
   "metadata": {},
   "outputs": [
    {
     "data": {
      "image/png": "[encoded data removed]",
      "text/plain": [
       "<Figure size 720x432 with 1 Axes>"
      ]
     },
     "metadata": {
      "needs_background": "light"
     },
     "output_type": "display_data"
    }
   ],
   "source": [
    "# Todo: Make interactive with slider for the dimension\n",
    "dims = [9,6,4]\n",
    "ax = None\n",
    "for dim in dims:\n",
    "    vectors_a = generate_random_vectors(dim=dim, nbr_of_vectors=10**5)\n",
    "    vectors_b = generate_random_vectors(dim=dim, nbr_of_vectors=10**5)\n",
    "    ax = plot_angle_distribution(vectors_a, vectors_b, ax=ax)\n",
    "plt.legend(dims)\n",
    "ax.set_title('{}D random angle distribution'.format(dims));"
   ]
  },
  {
   "cell_type": "markdown",
   "metadata": {},
   "source": [
    "This distinct shape of the angle distribution as a function of the dimension can be analytically described by a power of sinosoid [(*Cai et al., 2014*)]()\n",
    "$$ f_\\sphericalangle(\\phi) \\propto \\sin^{N-2}\\phi \\qquad \\phi \\in [0,\\pi]\\quad. $$"
   ]
  },
  {
   "cell_type": "code",
   "execution_count": 6,
   "metadata": {},
   "outputs": [],
   "source": [
    "from math import gamma\n",
    "\n",
    "angle_dist = lambda phi, dim: gamma(dim/2.) / (np.sqrt(np.pi)*gamma((dim-1)/2)) * np.sin(phi)**(dim-2)"
   ]
  },
  {
   "cell_type": "code",
   "execution_count": 7,
   "metadata": {},
   "outputs": [
    {
     "data": {
      "text/plain": [
       "Text(0.5, 1.0, 'analytic distribution of random angles in 6-dim')"
      ]
     },
     "execution_count": 7,
     "metadata": {},
     "output_type": "execute_result"
    },
    {
     "data": {
      "image/png": "[encoded data removed]",
      "text/plain": [
       "<Figure size 720x432 with 1 Axes>"
      ]
     },
     "metadata": {
      "needs_background": "light"
     },
     "output_type": "display_data"
    }
   ],
   "source": [
    "dim = 6\n",
    "vectors_a = generate_random_vectors(dim=dim, nbr_of_vectors=10**5)\n",
    "vectors_b = generate_random_vectors(dim=dim, nbr_of_vectors=10**5)\n",
    "ax = plot_angle_distribution(vectors_a, vectors_b)\n",
    "phi = np.linspace(0, np.pi, 100)\n",
    "ax.plot(phi, [angle_dist(p, dim) for p in phi], 'k--')\n",
    "plt.legend([r'$\\sin^{N-2}\\phi$', 'random angles'])\n",
    "ax.set_title('analytic distribution of random angles in {}-dim'.format(dim))"
   ]
  },
  {
   "cell_type": "markdown",
   "metadata": {},
   "source": [
    "This then of course also describes the angle distribution between the random eigenvectors.\n",
    "\n",
    "But eigenvectors are more constraint, since the eigenvectors of each matrix are pairwise orthogonal. This causes the distribution to be skewed towards small angles. This effect is especially pronunced for lower dimensions.\n",
    "\n",
    "Angles between eigenvectors are well described by the distribution of random angles in the case of high dimensionality (dim >~ 10)."
   ]
  },
  {
   "cell_type": "code",
   "execution_count": 11,
   "metadata": {},
   "outputs": [
    {
     "data": {
      "text/plain": [
       "Text(0.5, 1.0, 'analytic distribution of random angles in 20-dim')"
      ]
     },
     "execution_count": 11,
     "metadata": {},
     "output_type": "execute_result"
    },
    {
     "data": {
      "image/png": "[encoded data removed]",
      "text/plain": [
       "<Figure size 720x432 with 1 Axes>"
      ]
     },
     "metadata": {
      "needs_background": "light"
     },
     "output_type": "display_data"
    }
   ],
   "source": [
    "dim = 20\n",
    "eigenvectors_a = generate_random_eigenvectors(dim=dim, min_nbr_of_vectors=10**5)\n",
    "eigenvectors_b = generate_random_eigenvectors(dim=dim, min_nbr_of_vectors=10**5)\n",
    "ax = plot_angle_distribution(eigenvectors_a, eigenvectors_b)\n",
    "phi = np.linspace(0, np.pi, 100)\n",
    "ax.plot(phi, [angle_dist(p, dim) for p in phi], 'k--')\n",
    "plt.legend([r'$\\sin^{N-2}\\phi$', 'random angles'])\n",
    "ax.set_title('analytic distribution of random angles in {}-dim'.format(dim))"
   ]
  },
  {
   "cell_type": "markdown",
   "metadata": {},
   "source": [
    "weighting the angles with the corresponding eigenvalues:"
   ]
  },
  {
   "cell_type": "markdown",
   "metadata": {},
   "source": [
    "eigenvalue distribution:"
   ]
  },
  {
   "cell_type": "code",
   "execution_count": 75,
   "metadata": {},
   "outputs": [],
   "source": [
    "def generate_random_eigenvalues(dim=3, min_nbr_of_values=2):\n",
    "    nbr_of_matrices = int(min_nbr_of_values)//int(dim)\n",
    "    eigenvalue_array = np.empty(nbr_of_matrices*dim)\n",
    "    for i in range(nbr_of_matrices):\n",
    "        random_vectors = np.random.normal(size=(dim, dim))\n",
    "        random_corr_matrix = np.dot(random_vectors, random_vectors.T)\n",
    "        eigenvalues, eigenvectors = eigh(random_corr_matrix)\n",
    "        eigenvalue_array[i*dim:i*dim+dim] = eigenvalues\n",
    "    return eigenvalue_array"
   ]
  },
  {
   "cell_type": "code",
   "execution_count": 98,
   "metadata": {},
   "outputs": [
    {
     "name": "stdout",
     "output_type": "stream",
     "text": [
      "[[ 1.         -0.1264639   0.08536718]\n",
      " [-0.1264639   1.         -0.04598409]\n",
      " [ 0.08536718 -0.04598409  1.        ]]\n",
      "3\n"
     ]
    },
    {
     "data": {
      "image/png": "[encoded data removed]",
      "text/plain": [
       "<Figure size 720x432 with 1 Axes>"
      ]
     },
     "metadata": {
      "needs_background": "light"
     },
     "output_type": "display_data"
    }
   ],
   "source": [
    "dim = 3\n",
    "min_nbr_of_values = 3\n",
    "nbr_of_matrices = int(min_nbr_of_values)//int(dim)\n",
    "eigenvalue_array = np.empty(nbr_of_matrices*dim)\n",
    "for i in range(nbr_of_matrices):\n",
    "    random_vectors = np.random.normal(size=(dim, 100))\n",
    "    for j, v in enumerate(random_vectors):\n",
    "        random_vectors[j] /= np.linalg.norm(v)\n",
    "    random_corr_matrix = np.dot(random_vectors, random_vectors.T)\n",
    "    eigenvalues, eigenvectors = eigh(random_corr_matrix)\n",
    "    eigenvalue_array[i*dim:i*dim+dim] = eigenvalues\n",
    "print(random_corr_matrix)\n",
    "fig, ax = plt.subplots(nrows=1, ncols=1, figsize=(10,6))\n",
    "# edges = np.linspace(0, dim, 100)\n",
    "hist, edges = np.histogram(eigenvalues, density=False)\n",
    "x = edges[:-1] + np.diff(edges)/2.\n",
    "ax.bar(x, hist, width=.9*np.diff(edges), alpha=0.5)\n",
    "ax.set_xlabel('eigenvalue')\n",
    "ax.set_ylabel('occurence')\n",
    "plt.show()"
   ]
  }
 ],
 "metadata": {
  "kernelspec": {
   "display_name": "Python 3",
   "language": "python",
   "name": "python3"
  },
  "language_info": {
   "codemirror_mode": {
    "name": "ipython",
    "version": 3
   },
   "file_extension": ".py",
   "mimetype": "text/x-python",
   "name": "python",
   "nbconvert_exporter": "python",
   "pygments_lexer": "ipython3",
   "version": "3.6.6"
  }
 },
 "nbformat": 4,
 "nbformat_minor": 2
}
